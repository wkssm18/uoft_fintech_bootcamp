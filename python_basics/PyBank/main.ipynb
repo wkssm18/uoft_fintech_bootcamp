{
 "cells": [
  {
   "cell_type": "markdown",
   "id": "acb751ef-aeee-4abd-a33c-4bb12998e2d6",
   "metadata": {},
   "source": [
    "# PyBank"
   ]
  },
  {
   "cell_type": "markdown",
   "id": "3a515c3e-6043-4d14-913d-6e1ebdb79500",
   "metadata": {},
   "source": [
    "## Solving using python only"
   ]
  },
  {
   "cell_type": "code",
   "execution_count": 24,
   "id": "24bd91ef-c083-4dd2-b2b5-6b8ade40f524",
   "metadata": {},
   "outputs": [],
   "source": [
    "# Importing necessary library and assigning proper path to variable 'Path'\n",
    "import csv\n",
    "Path = 'budget_data.csv'"
   ]
  },
  {
   "cell_type": "code",
   "execution_count": 25,
   "id": "5e741122-5f42-4f89-a374-b1d3a34a9ad2",
   "metadata": {
    "tags": []
   },
   "outputs": [],
   "source": [
    "# Creating separate lists called dates and values for dates and profits/losses values\n",
    "dates = []\n",
    "values = []\n",
    "\n",
    "# Opening the csv file and transferring data to each lists created\n",
    "with open(Path, mode = 'r') as budget_file:\n",
    "  reader = csv.reader(budget_file)\n",
    "  next(reader)\n",
    "  for row in reader:\n",
    "    dates.append(row[0])\n",
    "    values.append(row[1])\n",
    "\n",
    "# Changing values (profits/losses) data to integer type\n",
    "for i in range(len(values)):\n",
    "  values[i] = int(values[i])\n",
    "\n",
    "# Creating a new list called profit_changes, which will contain the data of changes in values (profits/losses)\n",
    "current_day_values = values[1:]\n",
    "previous_day_values = values[:-1]\n",
    "profit_changes = []\n",
    "for i in range(len(current_day_values)):\n",
    "  difference = current_day_values[i] - previous_day_values[i]\n",
    "  profit_changes.append(difference)\n",
    "\n",
    "# Changes start with the second month (since first month change will be 0), so slicing the first date\n",
    "profit_change_dates = dates[1:]"
   ]
  },
  {
   "cell_type": "code",
   "execution_count": 26,
   "id": "d33cbc1b-fa6c-4b88-88eb-ec805fa2cfb0",
   "metadata": {
    "tags": []
   },
   "outputs": [],
   "source": [
    "# Creating a function called print_analysis which will print all the necessary data\n",
    "def print_analysis(dates_list, values_list, profit_change_list):\n",
    "  print('Financial analysis \\n\\n------------------')\n",
    "  total_months(dates_list)\n",
    "  total_money(values_list)\n",
    "  average_change(profit_change_list)\n",
    "  print_greatest_increase()\n",
    "  print_greatest_decrease()\n",
    "  \n",
    "# Creating a function called total_months which counts how many months are in the table\n",
    "def total_months(list):\n",
    "  # Printing total months\n",
    "  print('Total months: ', len(list))\n",
    "\n",
    "# Creating a function called total_money which will calculate total amount of profit/losses made\n",
    "def total_money(list):\n",
    "  # Adding all the values and calling it 'sum'\n",
    "  sum = 0\n",
    "  for value in list: \n",
    "    sum += value\n",
    "  print('Total : $ ', sum)\n",
    "\n",
    "# Creating a function called average_change which finds the average changes in profits/losses\n",
    "def average_change(list):\n",
    "  # Finding average change in values\n",
    "  diff_sum = 0\n",
    "  for i in list:\n",
    "    diff_sum += i\n",
    "  average = diff_sum / len(list)\n",
    "  print(f'Average change : $ {average:.2f}')\n",
    "\n",
    "# Creating a function called print_greatest_increase which prints out the month and value of the greatest increase in profit\n",
    "def print_greatest_increase():\n",
    "  # Finding and printing the greatest increase in profits\n",
    "  print(f'Greatest increase in profits : {profit_change_dates[profit_changes.index(max(profit_changes))]} ({max(profit_changes)})')\n",
    "\n",
    "# Creating a function called print_greatest_decrease which prints out the month and value of the greatest decrease in profit\n",
    "def print_greatest_decrease():\n",
    "  # Finding and printing the greatest decrease in profits\n",
    "  print(f'Greatest decrease in profits : {profit_change_dates[profit_changes.index(min(profit_changes))]} ({min(profit_changes)})')"
   ]
  },
  {
   "cell_type": "code",
   "execution_count": 27,
   "id": "65b1f962-a8ee-4378-833b-914850ce4a7a",
   "metadata": {
    "tags": []
   },
   "outputs": [
    {
     "name": "stdout",
     "output_type": "stream",
     "text": [
      "Financial analysis \n",
      "\n",
      "------------------\n",
      "Total months:  86\n",
      "Total : $  38382578\n",
      "Average change : $ -2315.12\n",
      "Greatest increase in profits : Feb-2012 (1926159)\n",
      "Greatest decrease in profits : Sep-2013 (-2196167)\n"
     ]
    }
   ],
   "source": [
    "print_analysis(dates, values, profit_changes)"
   ]
  },
  {
   "cell_type": "markdown",
   "id": "1eb4f0bd-03c3-4c5c-a5f1-7d37cb6428e8",
   "metadata": {},
   "source": [
    "## Solving using pandas library (optional)"
   ]
  },
  {
   "cell_type": "code",
   "execution_count": 6,
   "id": "7717dd23-2052-47f1-8005-94ea4b22e421",
   "metadata": {
    "tags": []
   },
   "outputs": [],
   "source": [
    "import pandas as pd"
   ]
  },
  {
   "cell_type": "code",
   "execution_count": 7,
   "id": "f405d6f3-d04a-4575-92e0-efcecceab011",
   "metadata": {
    "tags": []
   },
   "outputs": [],
   "source": [
    "budget = pd.read_csv('budget_data.csv')\n",
    "budget = budget.set_index('Date')"
   ]
  },
  {
   "cell_type": "code",
   "execution_count": 8,
   "id": "0e946e61-87ac-43dc-a66b-644158bd21a4",
   "metadata": {
    "tags": []
   },
   "outputs": [],
   "source": [
    "budget['prev_month'] = budget.shift(1)\n",
    "budget['change'] = budget['Profit/Losses'] - budget['prev_month']"
   ]
  },
  {
   "cell_type": "code",
   "execution_count": 9,
   "id": "77572f69-f181-485f-a980-0bb4190e559f",
   "metadata": {
    "tags": []
   },
   "outputs": [
    {
     "name": "stdout",
     "output_type": "stream",
     "text": [
      "Financial analysys \n",
      " \n",
      "-------------------\n",
      "Total months:  86\n",
      "Total : $ 38382578\n",
      "Average change : $ -2315.12\n",
      "Greatest increase in profits :  Feb-2012 ( 1926159.0 )\n",
      "Greatest decrease in profits :  Sep-2013 ( -2196167.0 )\n"
     ]
    }
   ],
   "source": [
    "print('Financial analysys \\n \\n-------------------')\n",
    "if budget.index.nunique() == len(budget):\n",
    "  print('Total months: ', budget.index.nunique()) \n",
    "\n",
    "print('Total : $', budget['Profit/Losses'].sum())\n",
    "print('Average change : $', round(budget['change'].mean(),2))\n",
    "print('Greatest increase in profits : ', budget[budget['change'] == budget['change'].max()].index[0], '(', budget['change'].max(), ')')\n",
    "print('Greatest decrease in profits : ', budget[budget['change'] == budget['change'].min()].index[0], '(', budget['change'].min(), ')')"
   ]
  }
 ],
 "metadata": {
  "kernelspec": {
   "display_name": "Python 3 (ipykernel)",
   "language": "python",
   "name": "python3"
  },
  "language_info": {
   "codemirror_mode": {
    "name": "ipython",
    "version": 3
   },
   "file_extension": ".py",
   "mimetype": "text/x-python",
   "name": "python",
   "nbconvert_exporter": "python",
   "pygments_lexer": "ipython3",
   "version": "3.11.5"
  }
 },
 "nbformat": 4,
 "nbformat_minor": 5
}
