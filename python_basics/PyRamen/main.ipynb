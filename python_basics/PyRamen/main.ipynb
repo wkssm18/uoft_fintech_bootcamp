{
 "cells": [
  {
   "cell_type": "markdown",
   "id": "6a82fc0c-82f9-403b-97b0-b0eaaf4245d7",
   "metadata": {},
   "source": [
    "# PyRamen"
   ]
  },
  {
   "cell_type": "markdown",
   "id": "c4638251-3a12-4e04-96df-cf9e8bada138",
   "metadata": {},
   "source": [
    "## Solving using python only using instruction given"
   ]
  },
  {
   "cell_type": "code",
   "execution_count": 27,
   "id": "08658702-6cde-4f08-94c9-cd4b9e4eb251",
   "metadata": {
    "tags": []
   },
   "outputs": [],
   "source": [
    "# Importing necessary libraries \n",
    "import csv\n",
    "from pathlib import Path\n",
    "\n",
    "# Setting file path\n",
    "menu_filepath = Path('menu_data.csv')\n",
    "sales_filepath = Path('sales_data.csv')\n",
    "\n",
    "# Creating lists to hold menu and sales data and transferring the data to the lists\n",
    "menu = []\n",
    "sales = []\n",
    "with open(menu_filepath, mode = 'r') as file:\n",
    "  reader = csv.reader(file)\n",
    "  next(reader)\n",
    "  for row in reader:\n",
    "    menu.append(row)\n",
    "with open(sales_filepath, mode = 'r') as file:\n",
    "  reader = csv.reader(file)\n",
    "  next(reader)\n",
    "  for row in reader:\n",
    "    sales.append(row)\n",
    "\n",
    "# Changing price, cost, and quantity values to float types\n",
    "# 4th and 5th elements (price, cost) in the menu list and 4th element (quantity) in the sales list are numbers\n",
    "for i in range(len(menu)):\n",
    "  menu[i][3] = float(menu[i][3])\n",
    "  menu[i][4] = float(menu[i][4])\n",
    "for i in range(len(sales)):\n",
    "  sales[i][3] = float(sales[i][3])"
   ]
  },
  {
   "cell_type": "code",
   "execution_count": 28,
   "id": "2c26f8dc-3945-48a9-a0cf-54a1fada2e5f",
   "metadata": {
    "tags": []
   },
   "outputs": [],
   "source": [
    "# First created an empty dictionary called report. \n",
    "# Then, iterate through the sales data to add cumulative data about the total number of items sold (quantity), total revenue, total cost, and total profit and store that data in the report dictionary\n",
    "# The instruction wanted to print NO MATCH! message every single time, but to save runtime, I have commented it out. \n",
    "report = {}\n",
    "for i in sales:\n",
    "  quantity = i[3]\n",
    "  menu_item = i[4]\n",
    "  if menu_item in report:\n",
    "    for j in menu:\n",
    "      item = j[0]\n",
    "      price = j[3]\n",
    "      cost = j[4]\n",
    "      if item == menu_item:\n",
    "        report[menu_item]['01-count'] += quantity\n",
    "        report[menu_item]['02-revenue'] += quantity * price\n",
    "        report[menu_item]['03-cogs'] += quantity * cost\n",
    "        report[menu_item]['04-profit'] += (price - cost) * quantity\n",
    "        break\n",
    "      else:\n",
    "        pass\n",
    "        #print(f\"{menu_item} does not equal {item}! NO MATCH!\")\n",
    "  else:\n",
    "    report[menu_item] = {'01-count': 0, '02-revenue': 0, '03-cogs': 0, '04-profit': 0}\n",
    "    for j in menu:\n",
    "      item = j[0]\n",
    "      price = j[3]\n",
    "      cost = j[4]\n",
    "      if item == menu_item:\n",
    "        report[menu_item]['01-count'] += quantity\n",
    "        report[menu_item]['02-revenue'] += quantity * price\n",
    "        report[menu_item]['03-cogs'] += quantity * cost\n",
    "        report[menu_item]['04-profit'] += (price - cost) * quantity\n",
    "        break\n",
    "      else:\n",
    "        pass\n",
    "        #print(f\"{menu_item} does not equal {item}! NO MATCH!\")\n"
   ]
  },
  {
   "cell_type": "code",
   "execution_count": 29,
   "id": "f3198243-2bd6-4a2c-a4a4-b85f609068ab",
   "metadata": {
    "tags": []
   },
   "outputs": [
    {
     "name": "stdout",
     "output_type": "stream",
     "text": [
      "spicy miso ramen {'01-count': 9238.0, '02-revenue': 110856.0, '03-cogs': 46190.0, '04-profit': 64666.0}\n",
      "tori paitan ramen {'01-count': 9156.0, '02-revenue': 119028.0, '03-cogs': 54936.0, '04-profit': 64092.0}\n",
      "truffle butter ramen {'01-count': 8982.0, '02-revenue': 125748.0, '03-cogs': 62874.0, '04-profit': 62874.0}\n",
      "tonkotsu ramen {'01-count': 9288.0, '02-revenue': 120744.0, '03-cogs': 55728.0, '04-profit': 65016.0}\n",
      "vegetarian spicy miso {'01-count': 9216.0, '02-revenue': 110592.0, '03-cogs': 46080.0, '04-profit': 64512.0}\n",
      "shio ramen {'01-count': 9180.0, '02-revenue': 100980.0, '03-cogs': 45900.0, '04-profit': 55080.0}\n",
      "miso crab ramen {'01-count': 8890.0, '02-revenue': 106680.0, '03-cogs': 53340.0, '04-profit': 53340.0}\n",
      "nagomi shoyu {'01-count': 9132.0, '02-revenue': 100452.0, '03-cogs': 45660.0, '04-profit': 54792.0}\n",
      "soft-shell miso crab ramen {'01-count': 9130.0, '02-revenue': 127820.0, '03-cogs': 63910.0, '04-profit': 63910.0}\n",
      "burnt garlic tonkotsu ramen {'01-count': 9070.0, '02-revenue': 126980.0, '03-cogs': 54420.0, '04-profit': 72560.0}\n",
      "vegetarian curry + king trumpet mushroom ramen {'01-count': 8824.0, '02-revenue': 114712.0, '03-cogs': 61768.0, '04-profit': 52944.0}\n"
     ]
    }
   ],
   "source": [
    "# Printing report\n",
    "for key, val in report.items():\n",
    "  print(key, val)"
   ]
  },
  {
   "cell_type": "markdown",
   "id": "c7c60cfe-0d5f-48f5-89a3-4b5dd31bd22e",
   "metadata": {},
   "source": [
    "## Solving using python in my own way (optional)"
   ]
  },
  {
   "cell_type": "code",
   "execution_count": 30,
   "id": "6a0cf5fd-b030-4da1-beca-1220b23e2075",
   "metadata": {
    "tags": []
   },
   "outputs": [],
   "source": [
    "# I will pretend I am starting all over again so will start with importing necessary libraries. \n",
    "import csv\n",
    "from pathlib import Path\n",
    "\n",
    "# Setting file path\n",
    "menu_filepath = Path('menu_data.csv')\n",
    "sales_filepath = Path('sales_data.csv')\n",
    "\n",
    "# Creating lists to hold menu and sales data and transferring the data to the lists\n",
    "menu_2 = []\n",
    "sales_2 = []\n",
    "\n",
    "# Loading data to the above 2 lists created\n",
    "source_dict = {menu_filepath: menu_2, sales_filepath: sales_2}\n",
    "for path, data in source_dict.items():\n",
    "    with open(path, mode = 'r') as file:\n",
    "        reader = csv.reader(file)\n",
    "        next(reader)\n",
    "        for row in reader:\n",
    "            data.append(row)\n",
    "\n",
    "# Changing price, cost, and quantity values to float types\n",
    "# 4th and 5th elements (price, cost) in the menu list and 4th element (quantity) in the sales list are numbers\n",
    "for i in range(len(menu_2)):\n",
    "  menu_2[i][3] = float(menu_2[i][3])\n",
    "  menu_2[i][4] = float(menu_2[i][4])\n",
    "for i in range(len(sales_2)):\n",
    "  sales_2[i][3] = float(sales_2[i][3])"
   ]
  },
  {
   "cell_type": "code",
   "execution_count": 31,
   "id": "6544656c-566c-43ff-8e63-ad66a784b295",
   "metadata": {
    "tags": []
   },
   "outputs": [],
   "source": [
    "# Created a function that returns a dictionary of report\n",
    "def report_creater(menu_list, sales_list):\n",
    "    report = {}\n",
    "    for i in sales_list:\n",
    "        if i[4] in report:\n",
    "            report[i[4]]['01-count'] += i[3]\n",
    "        else:\n",
    "            report[i[4]] = {'01-count': i[3], '02-revenue': 0, '03-cogs': 0, '04-profit': 0}\n",
    "    # Loop through menu data to calculate total revenue, cost, and profit using the price and cost data and quantities sold\n",
    "    for item in menu_list:\n",
    "        if item[0] in report.keys():\n",
    "            report[item[0]]['02-revenue'] = report[item[0]]['01-count'] * item[3]\n",
    "            report[item[0]]['03-cogs'] = report[item[0]]['01-count'] * item[4]\n",
    "            report[item[0]]['04-profit'] = report[item[0]]['02-revenue'] - report[item[0]]['03-cogs']\n",
    "    return report"
   ]
  },
  {
   "cell_type": "code",
   "execution_count": 32,
   "id": "698c5b10-e9d1-4c28-a782-4e5a613afeea",
   "metadata": {
    "tags": []
   },
   "outputs": [
    {
     "name": "stdout",
     "output_type": "stream",
     "text": [
      "spicy miso ramen {'01-count': 9238.0, '02-revenue': 110856.0, '03-cogs': 46190.0, '04-profit': 64666.0}\n",
      "tori paitan ramen {'01-count': 9156.0, '02-revenue': 119028.0, '03-cogs': 54936.0, '04-profit': 64092.0}\n",
      "truffle butter ramen {'01-count': 8982.0, '02-revenue': 125748.0, '03-cogs': 62874.0, '04-profit': 62874.0}\n",
      "tonkotsu ramen {'01-count': 9288.0, '02-revenue': 120744.0, '03-cogs': 55728.0, '04-profit': 65016.0}\n",
      "vegetarian spicy miso {'01-count': 9216.0, '02-revenue': 110592.0, '03-cogs': 46080.0, '04-profit': 64512.0}\n",
      "shio ramen {'01-count': 9180.0, '02-revenue': 100980.0, '03-cogs': 45900.0, '04-profit': 55080.0}\n",
      "miso crab ramen {'01-count': 8890.0, '02-revenue': 106680.0, '03-cogs': 53340.0, '04-profit': 53340.0}\n",
      "nagomi shoyu {'01-count': 9132.0, '02-revenue': 100452.0, '03-cogs': 45660.0, '04-profit': 54792.0}\n",
      "soft-shell miso crab ramen {'01-count': 9130.0, '02-revenue': 127820.0, '03-cogs': 63910.0, '04-profit': 63910.0}\n",
      "burnt garlic tonkotsu ramen {'01-count': 9070.0, '02-revenue': 126980.0, '03-cogs': 54420.0, '04-profit': 72560.0}\n",
      "vegetarian curry + king trumpet mushroom ramen {'01-count': 8824.0, '02-revenue': 114712.0, '03-cogs': 61768.0, '04-profit': 52944.0}\n"
     ]
    }
   ],
   "source": [
    "# Print report\n",
    "reports = report_creater(menu_2, sales_2)\n",
    "for key, val in reports.items():\n",
    "    print(key, val)"
   ]
  },
  {
   "cell_type": "markdown",
   "id": "b0c131f8-c9c3-4ae3-9a6d-89e9853d3e1e",
   "metadata": {},
   "source": [
    "## Solving using pandas library (optional)"
   ]
  },
  {
   "cell_type": "code",
   "execution_count": 33,
   "id": "fc41a64f-a7a6-48ca-a912-09e564229274",
   "metadata": {
    "tags": []
   },
   "outputs": [],
   "source": [
    "import pandas as pd"
   ]
  },
  {
   "cell_type": "code",
   "execution_count": 34,
   "id": "5589348e-4d4d-4aa5-b4bf-896813ca1492",
   "metadata": {
    "tags": []
   },
   "outputs": [],
   "source": [
    "pandas_menu = pd.read_csv('menu_data.csv')\n",
    "pandas_sales = pd.read_csv('sales_data.csv')"
   ]
  },
  {
   "cell_type": "code",
   "execution_count": 35,
   "id": "d5e68168-ff4f-4980-8a59-6df3759ed234",
   "metadata": {
    "tags": []
   },
   "outputs": [],
   "source": [
    "pandas_menu['profit'] = pandas_menu.price - pandas_menu.cost\n",
    "\n",
    "# Creating a function that checks whether items sold are all in our menu or not\n",
    "def menu_checker(menu_dataframe, sales_dataframe):\n",
    "    menu_list = []\n",
    "    not_in_menu = 0\n",
    "    for i in menu_dataframe.item:\n",
    "        menu_list.append(i)\n",
    "    for i in sales_dataframe.Menu_Item.unique():\n",
    "        if i not in menu_list:\n",
    "            print(i + ' is not in our menu list')\n",
    "            not_in_menu += 1\n",
    "    if not_in_menu == 0:\n",
    "        print('Everything is in the menu. No missing items')\n",
    "    elif not_in_menu > 0:\n",
    "        print(f'{not_in_menu} items are missing in the menu.')\n",
    "        \n",
    "        \n",
    "# Adding price, cost, profit, category columns to pandas_sales\n",
    "columns = ['price', 'cost', 'profit', 'category']\n",
    "for i in columns:\n",
    "  pandas_sales[i] = pandas_sales['Menu_Item'].map(pandas_menu.set_index(['item'])[i])\n",
    "\n",
    "# Adding total revenue, cost, and profit data\n",
    "pandas_sales['total_revenue'] = pandas_sales['price'] * pandas_sales['Quantity']\n",
    "pandas_sales['total_cost'] = pandas_sales['cost'] * pandas_sales['Quantity']\n",
    "pandas_sales['total_profit'] = pandas_sales['profit'] * pandas_sales['Quantity']"
   ]
  },
  {
   "cell_type": "code",
   "execution_count": 36,
   "id": "6dabfda7-b798-4c09-874c-4b1f1031e945",
   "metadata": {
    "tags": []
   },
   "outputs": [
    {
     "name": "stdout",
     "output_type": "stream",
     "text": [
      "Everything is in the menu. No missing items\n"
     ]
    }
   ],
   "source": [
    "# Checking whether items sold are not in our menu list\n",
    "menu_checker(pandas_menu, pandas_sales)"
   ]
  },
  {
   "cell_type": "code",
   "execution_count": 37,
   "id": "f51ecec6-d7a4-4130-b2ef-d9c529c5ebbc",
   "metadata": {
    "tags": []
   },
   "outputs": [
    {
     "data": {
      "text/html": [
       "<div>\n",
       "<style scoped>\n",
       "    .dataframe tbody tr th:only-of-type {\n",
       "        vertical-align: middle;\n",
       "    }\n",
       "\n",
       "    .dataframe tbody tr th {\n",
       "        vertical-align: top;\n",
       "    }\n",
       "\n",
       "    .dataframe thead th {\n",
       "        text-align: right;\n",
       "    }\n",
       "</style>\n",
       "<table border=\"1\" class=\"dataframe\">\n",
       "  <thead>\n",
       "    <tr style=\"text-align: right;\">\n",
       "      <th></th>\n",
       "      <th>Quantity</th>\n",
       "      <th>total_revenue</th>\n",
       "      <th>total_cost</th>\n",
       "      <th>total_profit</th>\n",
       "    </tr>\n",
       "    <tr>\n",
       "      <th>Menu_Item</th>\n",
       "      <th></th>\n",
       "      <th></th>\n",
       "      <th></th>\n",
       "      <th></th>\n",
       "    </tr>\n",
       "  </thead>\n",
       "  <tbody>\n",
       "    <tr>\n",
       "      <th>burnt garlic tonkotsu ramen</th>\n",
       "      <td>9070</td>\n",
       "      <td>126980.0</td>\n",
       "      <td>54420</td>\n",
       "      <td>72560.0</td>\n",
       "    </tr>\n",
       "    <tr>\n",
       "      <th>miso crab ramen</th>\n",
       "      <td>8890</td>\n",
       "      <td>106680.0</td>\n",
       "      <td>53340</td>\n",
       "      <td>53340.0</td>\n",
       "    </tr>\n",
       "    <tr>\n",
       "      <th>nagomi shoyu</th>\n",
       "      <td>9132</td>\n",
       "      <td>100452.0</td>\n",
       "      <td>45660</td>\n",
       "      <td>54792.0</td>\n",
       "    </tr>\n",
       "    <tr>\n",
       "      <th>shio ramen</th>\n",
       "      <td>9180</td>\n",
       "      <td>100980.0</td>\n",
       "      <td>45900</td>\n",
       "      <td>55080.0</td>\n",
       "    </tr>\n",
       "    <tr>\n",
       "      <th>soft-shell miso crab ramen</th>\n",
       "      <td>9130</td>\n",
       "      <td>127820.0</td>\n",
       "      <td>63910</td>\n",
       "      <td>63910.0</td>\n",
       "    </tr>\n",
       "    <tr>\n",
       "      <th>spicy miso ramen</th>\n",
       "      <td>9238</td>\n",
       "      <td>110856.0</td>\n",
       "      <td>46190</td>\n",
       "      <td>64666.0</td>\n",
       "    </tr>\n",
       "    <tr>\n",
       "      <th>tonkotsu ramen</th>\n",
       "      <td>9288</td>\n",
       "      <td>120744.0</td>\n",
       "      <td>55728</td>\n",
       "      <td>65016.0</td>\n",
       "    </tr>\n",
       "    <tr>\n",
       "      <th>tori paitan ramen</th>\n",
       "      <td>9156</td>\n",
       "      <td>119028.0</td>\n",
       "      <td>54936</td>\n",
       "      <td>64092.0</td>\n",
       "    </tr>\n",
       "    <tr>\n",
       "      <th>truffle butter ramen</th>\n",
       "      <td>8982</td>\n",
       "      <td>125748.0</td>\n",
       "      <td>62874</td>\n",
       "      <td>62874.0</td>\n",
       "    </tr>\n",
       "    <tr>\n",
       "      <th>vegetarian curry + king trumpet mushroom ramen</th>\n",
       "      <td>8824</td>\n",
       "      <td>114712.0</td>\n",
       "      <td>61768</td>\n",
       "      <td>52944.0</td>\n",
       "    </tr>\n",
       "    <tr>\n",
       "      <th>vegetarian spicy miso</th>\n",
       "      <td>9216</td>\n",
       "      <td>110592.0</td>\n",
       "      <td>46080</td>\n",
       "      <td>64512.0</td>\n",
       "    </tr>\n",
       "  </tbody>\n",
       "</table>\n",
       "</div>"
      ],
      "text/plain": [
       "                                                Quantity  total_revenue  \\\n",
       "Menu_Item                                                                 \n",
       "burnt garlic tonkotsu ramen                         9070       126980.0   \n",
       "miso crab ramen                                     8890       106680.0   \n",
       "nagomi shoyu                                        9132       100452.0   \n",
       "shio ramen                                          9180       100980.0   \n",
       "soft-shell miso crab ramen                          9130       127820.0   \n",
       "spicy miso ramen                                    9238       110856.0   \n",
       "tonkotsu ramen                                      9288       120744.0   \n",
       "tori paitan ramen                                   9156       119028.0   \n",
       "truffle butter ramen                                8982       125748.0   \n",
       "vegetarian curry + king trumpet mushroom ramen      8824       114712.0   \n",
       "vegetarian spicy miso                               9216       110592.0   \n",
       "\n",
       "                                                total_cost  total_profit  \n",
       "Menu_Item                                                                 \n",
       "burnt garlic tonkotsu ramen                          54420       72560.0  \n",
       "miso crab ramen                                      53340       53340.0  \n",
       "nagomi shoyu                                         45660       54792.0  \n",
       "shio ramen                                           45900       55080.0  \n",
       "soft-shell miso crab ramen                           63910       63910.0  \n",
       "spicy miso ramen                                     46190       64666.0  \n",
       "tonkotsu ramen                                       55728       65016.0  \n",
       "tori paitan ramen                                    54936       64092.0  \n",
       "truffle butter ramen                                 62874       62874.0  \n",
       "vegetarian curry + king trumpet mushroom ramen       61768       52944.0  \n",
       "vegetarian spicy miso                                46080       64512.0  "
      ]
     },
     "execution_count": 37,
     "metadata": {},
     "output_type": "execute_result"
    }
   ],
   "source": [
    "# Displaying report\n",
    "pandas_sales.drop(['Date', 'Line_Item_ID', 'Credit_Card_Number', 'profit', 'category', 'price', 'cost'], axis=1).groupby(['Menu_Item']).sum()"
   ]
  }
 ],
 "metadata": {
  "kernelspec": {
   "display_name": "Python 3 (ipykernel)",
   "language": "python",
   "name": "python3"
  },
  "language_info": {
   "codemirror_mode": {
    "name": "ipython",
    "version": 3
   },
   "file_extension": ".py",
   "mimetype": "text/x-python",
   "name": "python",
   "nbconvert_exporter": "python",
   "pygments_lexer": "ipython3",
   "version": "3.11.5"
  }
 },
 "nbformat": 4,
 "nbformat_minor": 5
}
